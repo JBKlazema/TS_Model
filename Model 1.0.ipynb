{
 "cells": [
  {
   "cell_type": "code",
   "execution_count": 1,
   "metadata": {},
   "outputs": [],
   "source": [
    "#Importeer standard libraries\n",
    "import pandas as pd\n",
    "import numpy as np\n",
    "from datetime import datetime\n",
    "from ipywidgets import widgets\n",
    "import matplotlib.pyplot as plt\n",
    "#Importeer plotly libraries\n",
    "import plotly\n",
    "import plotly.tools as tls\n",
    "import plotly.graph_objs as go\n",
    "from plotly.offline import download_plotlyjs, init_notebook_mode, plot, iplot\n",
    "import cufflinks as cf"
   ]
  },
  {
   "cell_type": "code",
   "execution_count": 2,
   "metadata": {},
   "outputs": [
    {
     "name": "stdout",
     "output_type": "stream",
     "text": [
      "\n",
      "for Nibe Uplink: \n",
      "'buitentemp. BT1 [°C]',\n",
      "'huid. compr.frequentie  [Hz]',\n",
      "'temp. bron in EB100-EP14-BT10 [°C]',\n",
      "'temp. bron uit EB100-EP14-BT11 [°C]',\n",
      "'aanv.verwarming BT2 [°C]'\n",
      " \n"
     ]
    },
    {
     "data": {
      "application/vnd.jupyter.widget-view+json": {
       "model_id": "70ce45b219d6460ca913f567e063ff76",
       "version_major": 2,
       "version_minor": 0
      },
      "text/plain": [
       "Button(description='Choose file', style=ButtonStyle())"
      ]
     },
     "metadata": {},
     "output_type": "display_data"
    }
   ],
   "source": [
    "#Bestand kiezen, importeren, dateTimeIndex en van comma naar punt\n",
    "#Importeer libraries \n",
    "import os\n",
    "import tkinter as tk\n",
    "from tkinter import filedialog\n",
    "from ipywidgets import Output\n",
    "from IPython.display import clear_output\n",
    "\n",
    "#Print tekst voor de waarden die gebruikt moeten worden\n",
    "print(\n",
    "    '''\n",
    "for Nibe Uplink: \n",
    "'buitentemp. BT1 [°C]',\n",
    "'huid. compr.frequentie  [Hz]',\n",
    "'temp. bron in EB100-EP14-BT10 [°C]',\n",
    "'temp. bron uit EB100-EP14-BT11 [°C]',\n",
    "'aanv.verwarming BT2 [°C]'\n",
    " '''\n",
    " )\n",
    "\n",
    "#Defineer knop\n",
    "button5 = widgets.Button(description='Choose file')\n",
    "\n",
    "#Toon knop\n",
    "display(button5)\n",
    "\n",
    "#Defineer output\n",
    "out2 = Output()\n",
    "\n",
    "#Defineer dataframe\n",
    "df = pd.DataFrame()\n",
    "\n",
    "#Knop inhoud\n",
    "#Kies bestand dialoog\n",
    "#Vervang komma's door punten waarmee Pyhton rekent\n",
    "#Zet tijd naar stappen van 2 mintuen en interpoleerd de gegevens als die afwezig zijn\n",
    "def on_button5_clicked(b):\n",
    "    global df, tk\n",
    "    root = tk.Tk()\n",
    "    root.lift()\n",
    "    root.wm_attributes(\"-topmost\", 1)\n",
    "    root.focus_force()\n",
    "    filepath = filedialog.askopenfilename(parent=root)\n",
    "    filename_w_ext = os.path.basename(filepath)\n",
    "    filename, file_extension = os.path.splitext(filename_w_ext)\n",
    "    root.withdraw()\n",
    "    try:     \n",
    "        df = pd.read_csv(filepath, engine='python', delimiter=\";\", index_col=0, header=0, skiprows=None, encoding='utf-16le')\n",
    "        df.set_index(pd.DatetimeIndex(df.index.values),inplace=True)\n",
    "        df = df.replace(',','.', regex=True)\n",
    "        df = df.replace('SERR', np.nan).dropna()\n",
    "        df = df.apply(pd.to_numeric).round(3)\n",
    "        df = df.resample('2T').mean().interpolate()\n",
    "        df = df.replace('SERR', np.nan).dropna()\n",
    "        with out2:\n",
    "            clear_output()\n",
    "            print('file loaded succesfully')\n",
    "            print(filename + file_extension)\n",
    "    except Exception as e: #foutmelding geven als iets mis gaat\n",
    "        with out2:\n",
    "            clear_output()\n",
    "            print(e)\n",
    "    \n",
    "#Activeer definitie die bij de knop hoort    \n",
    "button5.on_click(on_button5_clicked)"
   ]
  },
  {
   "cell_type": "code",
   "execution_count": 3,
   "metadata": {},
   "outputs": [
    {
     "data": {
      "application/vnd.jupyter.widget-view+json": {
       "model_id": "b66fa1a1033243828b9355c61edd2e95",
       "version_major": 2,
       "version_minor": 0
      },
      "text/plain": [
       "Output()"
      ]
     },
     "metadata": {},
     "output_type": "display_data"
    }
   ],
   "source": [
    "out2"
   ]
  },
  {
   "cell_type": "code",
   "execution_count": 4,
   "metadata": {},
   "outputs": [],
   "source": [
    "#COP Tabel invoeren\n",
    "df_COP2 = pd.DataFrame({'COP' : [1.75,2.21,2.63,3.04,3.47,3.91,4.41,4.94,5.66,6.53,7.52,8.43,9.35,10.28]},\n",
    "                       index=[-70.00,-65.00,-60.00,-55.00,-50.00,-45.00,-40.00,-35.00,-30.00,-25.00,-20.00,-15.00,-10.00,-5.00])\n",
    "\n",
    "#Afronden op 5 aantallen\n",
    "def myround(x, base=5):\n",
    "    return int(base * round(float(x)/base))\n",
    "\n",
    "#definitie COP vinden\n",
    "def createCOP2(BI, CCF, df_COP2):\n",
    "    COP = []\n",
    "    for indexName,CCFthing in zip(BI, CCF): \n",
    "        if not -70 <= myround(indexName) <= -5 or CCFthing==0:\n",
    "            COP.append(None) \n",
    "        else:\n",
    "            COP.append(df_COP2['COP'][myround(indexName)])\n",
    "    return COP\n",
    "\n",
    "#COP vinden start\n",
    "def MakeCOP2():\n",
    "    Delta_T = []\n",
    "    Delta_T = df['temp. bron in EB100-EP14-BT10 [°C]'] - df['aanv.verwarming BT2 [°C]']\n",
    "    df['COP'] = createCOP2(Delta_T, df['huid. compr.frequentie  [Hz]'], df_COP2)"
   ]
  },
  {
   "cell_type": "code",
   "execution_count": 5,
   "metadata": {},
   "outputs": [],
   "source": [
    "#Defineer invulvakken voor variabele\n",
    "P = widgets.IntText(value=6, description='Power:')\n",
    "F = int(90) #Was eerste iets wat geweizigd kon worden is nu een vaste waarde\n",
    "A = widgets.FloatText(value=20, description='Area panels:')\n",
    "ui1 = widgets.VBox([P, A], layout={'border': '0px solid black'})"
   ]
  },
  {
   "cell_type": "code",
   "execution_count": 6,
   "metadata": {},
   "outputs": [
    {
     "data": {
      "application/vnd.jupyter.widget-view+json": {
       "model_id": "ab82028bdb234c6782ce162f02c961cc",
       "version_major": 2,
       "version_minor": 0
      },
      "text/plain": [
       "VBox(children=(IntText(value=6, description='Power:'), FloatText(value=20.0, description='Area panels:')), lay…"
      ]
     },
     "metadata": {},
     "output_type": "display_data"
    }
   ],
   "source": [
    "ui1"
   ]
  },
  {
   "cell_type": "code",
   "execution_count": 7,
   "metadata": {},
   "outputs": [],
   "source": [
    "df_fr = pd.DataFrame()\n",
    "\n",
    "#Vriesminuten berekenen\n",
    "def Freezeminutes(BRT, BT):\n",
    "    y = 0\n",
    "    Freeze = []\n",
    "    for x, z in zip (BRT, BT):\n",
    "        y = y + (0 - ((x + z) / 2))\n",
    "        if y < 0:\n",
    "            y=0\n",
    "        Freeze.append(y)\n",
    "    return Freeze \n",
    "\n",
    "#Defineer vriesminuten maken\n",
    "def MakeFreezeminutes():\n",
    "    df['Freezeminutes'] = Freezeminutes((df['temp. bron in EB100-EP14-BT10 [°C]'] + df['temp. bron uit EB100-EP14-BT11 [°C]'])/2, df['buitentemp. BT1 [°C]'])"
   ]
  },
  {
   "cell_type": "code",
   "execution_count": 8,
   "metadata": {},
   "outputs": [
    {
     "data": {
      "application/vnd.jupyter.widget-view+json": {
       "model_id": "923321bf7f804fbda7a4e916246af223",
       "version_major": 2,
       "version_minor": 0
      },
      "text/plain": [
       "Button(description='Calculate Values', style=ButtonStyle())"
      ]
     },
     "metadata": {},
     "output_type": "display_data"
    }
   ],
   "source": [
    "out3 = Output()\n",
    "#Delta T berekenen\n",
    "def MakeDT():\n",
    "    df['Delta_T'] = df[('buitentemp. BT1 [°C]')] - ((df[('temp. bron in EB100-EP14-BT10 [°C]')] + df[('temp. bron uit EB100-EP14-BT11 [°C]')])/2)\n",
    "\n",
    "#Actueel vermogen berekenen\n",
    "def MakePa():\n",
    "    df['Actueel vermogen'] = (df[('huid. compr.frequentie  [Hz]')] / F) * P.value\n",
    "    df['Actueel vermogen'] = df['Actueel vermogen'].apply(pd.to_numeric).round(3)\n",
    "    #df['Actueel vermogen'] = df['Actueel vermogen'].round(3)\n",
    "\n",
    "#U-waarde berekenen\n",
    "def MakeU():\n",
    "    df['U_waarde'] = df['Actueel vermogen'] * 1000 * (1-(1 / df['COP'])) / df['Delta_T'] / A.value\n",
    "    df[\"U_waarde\"] = pd.to_numeric(df[\"U_waarde\"])\n",
    "    df['U_waarde'] = df['U_waarde'].round(3)\n",
    "\n",
    "#U-waardes die boven de 100 afkoppen naar 100 en van negative U-waardes een 0 maken.\n",
    "def RoundU():\n",
    "    df['U_waarde'] = df['U_waarde'].mask(df['huid. compr.frequentie  [Hz]']==0, other='')\n",
    "    df['U_waarde'] = pd.to_numeric(df['U_waarde'])\n",
    "    df['U_waarde'] = df['U_waarde'].mask(df['U_waarde']>150, other=150)\n",
    "    df['U_waarde'] = df['U_waarde'].mask(df['U_waarde']<0, other=0)\n",
    "    \n",
    "#De definities van de berekende waarden bijelkaar\n",
    "#De een foutmelding geven als er iets fout is\n",
    "def calcualteValues():\n",
    "    try:\n",
    "        MakeDT()\n",
    "        MakePa()\n",
    "        MakeCOP2()\n",
    "        MakeU()\n",
    "        RoundU()\n",
    "        MakeFreezeminutes()\n",
    "        with out3:\n",
    "            clear_output()\n",
    "            print('successfully calculated')\n",
    "            print('All values:')\n",
    "            print(list(df))\n",
    "    except Exception as e:\n",
    "        with out3:\n",
    "            clear_output()\n",
    "            print('error:')\n",
    "            print(e)\n",
    "\n",
    "#Knop 4 definieren en weergeven\n",
    "button4 = widgets.Button(description='Calculate Values')\n",
    "display(button4)\n",
    "\n",
    "def on_button4_clicked(b):\n",
    "    calcualteValues()\n",
    "    \n",
    "button4.on_click(on_button4_clicked)"
   ]
  },
  {
   "cell_type": "code",
   "execution_count": 9,
   "metadata": {},
   "outputs": [
    {
     "data": {
      "application/vnd.jupyter.widget-view+json": {
       "model_id": "71a5c30594784eb1a0ab9f73d84c005c",
       "version_major": 2,
       "version_minor": 0
      },
      "text/plain": [
       "Output()"
      ]
     },
     "metadata": {},
     "output_type": "display_data"
    }
   ],
   "source": [
    "out3"
   ]
  },
  {
   "cell_type": "code",
   "execution_count": 10,
   "metadata": {},
   "outputs": [
    {
     "data": {
      "application/vnd.jupyter.widget-view+json": {
       "model_id": "49144a1136564c7ab876a7800411f622",
       "version_major": 2,
       "version_minor": 0
      },
      "text/plain": [
       "Button(description='Calculate extra Values', style=ButtonStyle())"
      ]
     },
     "metadata": {},
     "output_type": "display_data"
    }
   ],
   "source": [
    "#Knop 3 definieren en weergeven\n",
    "button3 = widgets.Button(description='Calculate extra Values')\n",
    "display(button3)\n",
    "out1 = Output()\n",
    "\n",
    "#Gemiddelde U berekenen\n",
    "def meanU():\n",
    "    print('Mean U: ' + str(round(df['U_waarde'].mean(),3)))\n",
    "\n",
    "#Afronden naar elke 3 uur\n",
    "def GroupBy3H():\n",
    "    global df\n",
    "    df = df.apply(pd.to_numeric).round(3)\n",
    "    df = df.groupby(pd.Grouper(freq='3H')).mean()\n",
    "\n",
    "#COP formule berekenen\n",
    "def COP_formula():\n",
    "    global df_sort\n",
    "    df_sort = df.sort_values('buitentemp. BT1 [°C]')\n",
    "    df_sort = df_sort.dropna()\n",
    "    df_sort = df_sort.loc[df['buitentemp. BT1 [°C]'] <= 21]\n",
    "    z = np.polyfit(df_sort['buitentemp. BT1 [°C]'],df_sort['COP'],1) #Trendlijn vinden\n",
    "    z = z.round(3)\n",
    "    print()\n",
    "    print('Formulas: (outside temp. = x)')\n",
    "    print(\"COP formuls: COP(x) = \" + \"{0}x + {1}\".format(*z)) #formule in een begrijpbaar formaat\n",
    "    print('standaard COP formula: COP(x) = 0.24x + 4.19') #print standaard COP formule\n",
    "\n",
    "#frequentie formule berekenen\n",
    "def Freq_formula():\n",
    "    z = np.polyfit(df_sort['buitentemp. BT1 [°C]'],df_sort['huid. compr.frequentie  [Hz]'],1)\n",
    "    z = z.round(3)\n",
    "    print(\"compressor frequency formula: compressor frequency(x) = \" + \"{0}x + {1}\".format(*z))\n",
    "\n",
    "#Bron in formule berekenen\n",
    "def bron_in_formula():\n",
    "    z = np.polyfit(df_sort['buitentemp. BT1 [°C]'],df_sort['temp. bron in EB100-EP14-BT10 [°C]'],2)\n",
    "    z = z.round(3)\n",
    "    print(\"Brine in formula: Brine in(x) = \" + \"{0}x^2 + {1}x + {2}\".format(*z))\n",
    "    global bron_f #Global definitie aanmaken om de formule later te gebruiken\n",
    "    bron_f = z\n",
    "\n",
    "#Conclusies trekken frequentie formule\n",
    "def Freq_conclusie():\n",
    "    global df_sort\n",
    "    z = np.polyfit(df_sort['buitentemp. BT1 [°C]'],df_sort['huid. compr.frequentie  [Hz]'],1)\n",
    "    print()\n",
    "    print('compressor frequency statistics:')\n",
    "    print('0 compressor frequency at: ' + str(round((z[1] / z[0] *-1),1)) + ' °C')\n",
    "    print('compressor frequency at 0°C: ' + str(round(z[1],1)) + ' Hz')\n",
    "    print('Maximum compressor frequency: ' + str(max(df_sort['huid. compr.frequentie  [Hz]'])) + ' Hz')\n",
    "    print('Maximum compressor frequency at: ' + str(round((max(df_sort['huid. compr.frequentie  [Hz]']) - z[1]) / z[0],1)) + ' °C')\n",
    "    global freq_f\n",
    "    freq_f = z\n",
    "\n",
    "#Conclusies trekken COP formule    \n",
    "def COP_conclusie():\n",
    "    z = np.polyfit(df_sort['buitentemp. BT1 [°C]'],df_sort['COP'],1)\n",
    "    print()\n",
    "    print('COP statistics:')\n",
    "    print('1 COP at : ' + str(round(((z[1]-1) / z[0] * -1),1)) + ' °C')\n",
    "    print('COP at 0°C: ' + str(round(z[1],1)))\n",
    "    print('COP at 15°C: ' + str(round(z[1] + z[0] * 15,1)))\n",
    "    global COP_f\n",
    "    COP_f = z\n",
    "\n",
    "#Het Totaal COP berekenen\n",
    "def COP_total():\n",
    "    powerdeliverd = (1 - 1 / df['COP']) * df['Actueel vermogen'] * 1000\n",
    "    powerused = (1 / df['COP']) * df['Actueel vermogen'] * 1000\n",
    "    powerdeliverd = powerdeliverd * 3 * 3600\n",
    "    powerused = powerused * 3 * 3600\n",
    "    powerdeliverd = powerdeliverd.sum().round(2)\n",
    "    powerused = powerused.sum().round(2)\n",
    "    powerdeliverd = powerdeliverd / 3600000\n",
    "    powerused = powerused / 3600000\n",
    "\n",
    "    print('Power deliverd: ' + str(round(powerdeliverd)) + ' kWh')\n",
    "    print('Power used: ' + str(round(powerused)) + ' kWh')\n",
    "    print('COP total: ' + str(round(powerdeliverd / powerused)))\n",
    "\n",
    "#De definities van de formules en de conclusies bij elkaar\n",
    "#en een foutmelding geven als er iets fout is   \n",
    "def calcualteExtraValues():\n",
    "    try:\n",
    "        meanU()\n",
    "        GroupBy3H()\n",
    "        COP_formula()\n",
    "        Freq_formula()\n",
    "        bron_in_formula()\n",
    "        Freq_conclusie()\n",
    "        COP_conclusie()\n",
    "        COP_total()\n",
    "        with out1:\n",
    "            clear_output()\n",
    "            print('successfully calculated')\n",
    "    except Exception as e:\n",
    "        with out1:\n",
    "            clear_output()\n",
    "            print('error:')\n",
    "            print(e)\n",
    "\n",
    "def on_button3_clicked(b):\n",
    "    calcualteExtraValues()\n",
    "    \n",
    "button3.on_click(on_button3_clicked)"
   ]
  },
  {
   "cell_type": "code",
   "execution_count": 11,
   "metadata": {},
   "outputs": [
    {
     "data": {
      "application/vnd.jupyter.widget-view+json": {
       "model_id": "1cdea97448ef4a36b646dda4036dd9ee",
       "version_major": 2,
       "version_minor": 0
      },
      "text/plain": [
       "Output()"
      ]
     },
     "metadata": {},
     "output_type": "display_data"
    }
   ],
   "source": [
    "out1"
   ]
  },
  {
   "cell_type": "code",
   "execution_count": 12,
   "metadata": {},
   "outputs": [
    {
     "data": {
      "application/vnd.jupyter.widget-view+json": {
       "model_id": "a64e7add750b48c982b2d9d34805e067",
       "version_major": 2,
       "version_minor": 0
      },
      "text/plain": [
       "Button(description='Show plot lines', style=ButtonStyle())"
      ]
     },
     "metadata": {},
     "output_type": "display_data"
    }
   ],
   "source": [
    "#know 1 defineren\n",
    "button1 = widgets.Button(description='Show plot lines')\n",
    "display(button1)\n",
    "\n",
    "#COP grafiek tekenen\n",
    "def COP_plot():\n",
    "    x = np.array(range(-10,20))\n",
    "    y = COP_f[0]*x + COP_f[1]\n",
    "    plt.plot(x,y)\n",
    "    plt.title('COP by outside temperature')\n",
    "    plt.show()\n",
    "\n",
    "#Frequentie grafiek tekenen    \n",
    "def freq_plot():\n",
    "    x = np.array(range(-10,20))\n",
    "    y = freq_f[0]*x + freq_f[1]\n",
    "    plt.plot(x,y)\n",
    "    plt.title('compressor frequency by outside temperature')\n",
    "    plt.show()\n",
    "\n",
    "#Bron in grafiek tekenen\n",
    "def bron_plot():\n",
    "    x = np.array(range(-10,20))\n",
    "    y = bron_f[0]*x**2 + bron_f[1]*x + bron_f[2]\n",
    "    plt.plot(x,y)\n",
    "    plt.title('Brine in by outside temperature')\n",
    "    plt.show()\n",
    "\n",
    "def ShowPlots():\n",
    "    COP_plot()\n",
    "    freq_plot()\n",
    "    bron_plot()\n",
    "\n",
    "def on_button1_clicked(b):\n",
    "    ShowPlots()\n",
    "    \n",
    "button1.on_click(on_button1_clicked)"
   ]
  },
  {
   "cell_type": "code",
   "execution_count": 13,
   "metadata": {},
   "outputs": [
    {
     "data": {
      "application/vnd.jupyter.widget-view+json": {
       "model_id": "9a8d929f3d5149a496e282e51d8e464c",
       "version_major": 2,
       "version_minor": 0
      },
      "text/plain": [
       "Button(description='Show scatter plots', style=ButtonStyle())"
      ]
     },
     "metadata": {},
     "output_type": "display_data"
    }
   ],
   "source": [
    "#knop 2 defineren\n",
    "button2 = widgets.Button(description='Show scatter plots')\n",
    "display(button2)\n",
    "\n",
    "#spreidingsdiagram voor de COP\n",
    "def COP_plot_sc():\n",
    "    plt.scatter(df_sort['buitentemp. BT1 [°C]'], df_sort['COP'])\n",
    "    plt.title('BT to COP')\n",
    "    plt.show()\n",
    "\n",
    "#spreidingsdiagram voor de frequntie\n",
    "def freq_plot_sc():\n",
    "    plt.scatter(df_sort['buitentemp. BT1 [°C]'], df_sort['huid. compr.frequentie  [Hz]'])\n",
    "    plt.title('BT to compressor frequency')\n",
    "    plt.show()\n",
    "\n",
    "#spreidingsdiagram voor de bron in\n",
    "def bron_plot_sc():\n",
    "    plt.scatter(df_sort['buitentemp. BT1 [°C]'], df_sort['temp. bron in EB100-EP14-BT10 [°C]'])\n",
    "    plt.title('BT to brine in')\n",
    "    plt.show()\n",
    "\n",
    "def Scatterplots():\n",
    "    COP_plot_sc()\n",
    "    freq_plot_sc()\n",
    "    bron_plot_sc()\n",
    "\n",
    "def on_button2_clicked(b):\n",
    "    Scatterplots()\n",
    "    \n",
    "button2.on_click(on_button2_clicked)"
   ]
  },
  {
   "cell_type": "code",
   "execution_count": 14,
   "metadata": {},
   "outputs": [
    {
     "data": {
      "application/vnd.jupyter.widget-view+json": {
       "model_id": "03da0ed3561741e2a963c819a6e38af3",
       "version_major": 2,
       "version_minor": 0
      },
      "text/plain": [
       "Button(description='Show dataframe', style=ButtonStyle())"
      ]
     },
     "metadata": {},
     "output_type": "display_data"
    },
    {
     "data": {
      "application/vnd.jupyter.widget-view+json": {
       "model_id": "053a1d0c724647de808b5c630781a0bc",
       "version_major": 2,
       "version_minor": 0
      },
      "text/plain": [
       "Output()"
      ]
     },
     "metadata": {},
     "output_type": "display_data"
    }
   ],
   "source": [
    "#knop voor dataframe weergeven\n",
    "button0 = widgets.Button(description='Show dataframe')\n",
    "display(button0)\n",
    "out = Output()\n",
    "\n",
    "#Definitie knop weergeven \n",
    "def Showdf():\n",
    "    with out:\n",
    "        clear_output()\n",
    "        display(df)\n",
    "\n",
    "def on_button0_clicked(b):\n",
    "    Showdf()\n",
    "    \n",
    "button0.on_click(on_button0_clicked)\n",
    "\n",
    "out"
   ]
  },
  {
   "cell_type": "code",
   "execution_count": 15,
   "metadata": {},
   "outputs": [],
   "source": [
    "#Knop om het dataframe op te slaan op de schijf\n",
    "def savefile():\n",
    "    root = tk.Tk()\n",
    "    root.lift()\n",
    "    root.focus_force()\n",
    "    root.filename =  filedialog.asksaveasfilename(initialdir = \"/\",title = \"Select file\",filetypes = ((\"CSV\",\"*.csv\"),(\"all files\",\"*.*\")))\n",
    "    root.withdraw()\n",
    "    df.to_csv(root.filename, sep=';')\n",
    "    print (root.filename)"
   ]
  },
  {
   "cell_type": "code",
   "execution_count": 16,
   "metadata": {},
   "outputs": [
    {
     "data": {
      "application/vnd.jupyter.widget-view+json": {
       "model_id": "eb62076e1b954204b783ab630bfa3d94",
       "version_major": 2,
       "version_minor": 0
      },
      "text/plain": [
       "Button(description='Save dataframe', style=ButtonStyle())"
      ]
     },
     "metadata": {},
     "output_type": "display_data"
    }
   ],
   "source": [
    "button6 = widgets.Button(description='Save dataframe')\n",
    "display(button6)\n",
    "\n",
    "def on_button6_clicked(b):\n",
    "    savefile()\n",
    "    \n",
    "button6.on_click(on_button6_clicked)"
   ]
  },
  {
   "cell_type": "code",
   "execution_count": 17,
   "metadata": {},
   "outputs": [
    {
     "data": {
      "application/vnd.jupyter.widget-view+json": {
       "model_id": "3a6efdc19c3e49a0ad827f1faaed9149",
       "version_major": 2,
       "version_minor": 0
      },
      "text/plain": [
       "Button(description='Make Plotly', style=ButtonStyle())"
      ]
     },
     "metadata": {},
     "output_type": "display_data"
    }
   ],
   "source": [
    "#knop voor plotly grafiek\n",
    "button7 = widgets.Button(description='Make Plotly')\n",
    "display(button7)\n",
    "\n",
    "def on_button7_clicked(b):\n",
    "    cf.go_offline()\n",
    "    init_notebook_mode(connected=True)\n",
    "    df.iplot(filename='cufflinks/line-example')\n",
    "\n",
    "button7.on_click(on_button7_clicked)"
   ]
  },
  {
   "cell_type": "code",
   "execution_count": 18,
   "metadata": {},
   "outputs": [],
   "source": [
    "#plotly maken met de formule van de voorspelde pomp frequentie\n",
    "def freq_compare():\n",
    "    df_per = pd.DataFrame()\n",
    "    df_per['Bt to pump'] = df['buitentemp. BT1 [°C]'] * freq_f[0] + freq_f[1]\n",
    "    df_per['current compr. frequency'] = df['huid. compr.frequentie  [Hz]']\n",
    "    df_per['compr. frequency surplus'] = df_per['current compr. frequency'] -  df_per['Bt to pump']\n",
    "    cf.go_offline()\n",
    "    init_notebook_mode(connected=True)\n",
    "    df_per.iplot(filename='cufflinks/line-example')"
   ]
  },
  {
   "cell_type": "code",
   "execution_count": 19,
   "metadata": {},
   "outputs": [
    {
     "data": {
      "application/vnd.jupyter.widget-view+json": {
       "model_id": "b04a2116f9e442c8b309d907fea01b78",
       "version_major": 2,
       "version_minor": 0
      },
      "text/plain": [
       "Button(description='freq_compare Plotly', style=ButtonStyle())"
      ]
     },
     "metadata": {},
     "output_type": "display_data"
    }
   ],
   "source": [
    "button8 = widgets.Button(description='freq_compare Plotly')\n",
    "display(button8)\n",
    "\n",
    "def on_button8_clicked(b):\n",
    "    freq_compare()\n",
    "\n",
    "button8.on_click(on_button8_clicked)"
   ]
  },
  {
   "cell_type": "code",
   "execution_count": 20,
   "metadata": {},
   "outputs": [],
   "source": [
    "#plotly maken met de formule van de voorspelde COP\n",
    "def COP_compare():\n",
    "    df_perC = pd.DataFrame()\n",
    "    df_perC['Bt to COP'] = df['buitentemp. BT1 [°C]'] * 0.24 + 4.19\n",
    "    df_perC['COP'] = df['COP']\n",
    "    df_perC['COP surplus'] = df_perC['COP'] -  df_perC['Bt to COP']\n",
    "    cf.go_offline()\n",
    "    init_notebook_mode(connected=True)\n",
    "    df_perC.iplot(filename='cufflinks/line-example')"
   ]
  },
  {
   "cell_type": "code",
   "execution_count": 21,
   "metadata": {},
   "outputs": [
    {
     "data": {
      "application/vnd.jupyter.widget-view+json": {
       "model_id": "838ba9f5413942ffa0d77a9095a31733",
       "version_major": 2,
       "version_minor": 0
      },
      "text/plain": [
       "Button(description='COP compare Plotly', style=ButtonStyle())"
      ]
     },
     "metadata": {},
     "output_type": "display_data"
    }
   ],
   "source": [
    "button10 = widgets.Button(description='COP compare Plotly')\n",
    "display(button10)\n",
    "\n",
    "def on_button10_clicked(b):\n",
    "    COP_compare()\n",
    "\n",
    "button10.on_click(on_button10_clicked)"
   ]
  },
  {
   "cell_type": "code",
   "execution_count": 22,
   "metadata": {},
   "outputs": [
    {
     "data": {
      "application/vnd.jupyter.widget-view+json": {
       "model_id": "1419cfa8fd314cf68fa84d69d69ae298",
       "version_major": 2,
       "version_minor": 0
      },
      "text/plain": [
       "Button(description='Show freezeminutes', style=ButtonStyle())"
      ]
     },
     "metadata": {},
     "output_type": "display_data"
    }
   ],
   "source": [
    "#vriesminuten grafiek maken\n",
    "button9 = widgets.Button(description='Show freezeminutes')\n",
    "display(button9)\n",
    "\n",
    "def on_button9_clicked(b):\n",
    "    df['Freezeminutes'].plot(use_index = True, kind = 'line', legend = True, sharex=True)\n",
    "button9.on_click(on_button9_clicked)"
   ]
  }
 ],
 "metadata": {
  "kernelspec": {
   "display_name": "Python 3",
   "language": "python",
   "name": "python3"
  },
  "language_info": {
   "codemirror_mode": {
    "name": "ipython",
    "version": 3
   },
   "file_extension": ".py",
   "mimetype": "text/x-python",
   "name": "python",
   "nbconvert_exporter": "python",
   "pygments_lexer": "ipython3",
   "version": "3.7.0"
  }
 },
 "nbformat": 4,
 "nbformat_minor": 2
}
